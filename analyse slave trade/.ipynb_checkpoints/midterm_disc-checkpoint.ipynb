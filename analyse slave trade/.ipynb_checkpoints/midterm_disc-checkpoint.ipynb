{
 "cells": [
  {
   "cell_type": "markdown",
   "metadata": {},
   "source": [
    "# STA 141B: Midterm (or Super-Homework if you prefer)\n",
    "\n",
    "### Worth 300 Points\n",
    "\n",
    "Fall 2018"
   ]
  },
  {
   "cell_type": "markdown",
   "metadata": {},
   "source": [
    "## Information\n",
    "\n",
    "After the colons (in the same line) please write just your first name, last name, and the 9 digit student ID number below.\n",
    "\n",
    "First Name:\n",
    "\n",
    "Last Name: \n",
    "\n",
    "Student ID: "
   ]
  },
  {
   "cell_type": "markdown",
   "metadata": {},
   "source": [
    "## Instructions\n",
    "\n",
    "Please print your answer notebook to pdf (make sure that it is not unnecessarily long due to long output) and submit as the homework solution with your zip file.\n",
    "\n",
    "For readability you,\n",
    "\n",
    "- MUST add cells in between the exercise statements and add answers within them and\n",
    "- MUST NOT modify the existing cells, particularly not the problem statement\n",
    "- you may add multiple cells between exercise cells\n",
    "\n",
    "To make markdown, please switch the cell type to markdown (from code) - you can hit 'm' when you are in command mode - and use the markdown language.  For a brief tutorial see: https://daringfireball.net/projects/markdown/syntax"
   ]
  },
  {
   "cell_type": "markdown",
   "metadata": {},
   "source": [
    "## Trans-Atlantic Slave Trade\n",
    "\n",
    "In this homework, we will uncover some of the numbers behind the Trans-atlantic slave trade (TAST), also known as the middle passage, that brought African slaves to the Americas.  The middle passage is reported to have forcibly migrated over 10 million Africans to the Americas over a roughly 3 century time span.  Many aspects of the TAST is little known by most people, such as the countries that constituted this network of slave ships, the regions from which the slaves were taken, and the number of slaves captured from Africa.\n",
    "\n",
    "This last number is especially important since the number of slaves taken from Africa can impact other estimates that result from this.  For example, when estimating the population of Africa in a given decade, demographers will use population growth models and more recent census data.  For example, there are roughly X number of people in Africa and such populations tend to grow at rate M.  Then if we want to calculate the population one century ahead then we just apply a simple formula that assumes that the population grows at this rate.  But if the population is being drained by the slave trade, then this number will tend to be underestimated because the growth rate is overestimated.  To account for this models need to take into account this drain on the population.\n",
    "\n",
    "Throughout this homework you will need to follow the principles of graphical excellence and the grammar of graphics.  **Use only Plotnine for your graphics**, do not use Pyplot, Seaborn, or Plotly since they do not follow closely the grammar of graphics.  Be sure to include titles and necessary contextual captions.\n",
    "\n",
    "**Warning:** The Trans-Atlantic Slave Trade remains one of the most horrific abuses of human rights in history.  This homework deals with the numbers behind this forced migration, please be aware that this is a sensitive topic for possibly yourself and others.   A suitable amount of respect and seriousness is required when dealing with this data."
   ]
  },
  {
   "cell_type": "markdown",
   "metadata": {},
   "source": [
    "**Exercise 1.** The data.\n",
    "\n",
    "1. Read in the Trans-Atlantic Slave Trade database with Pandas.  Hint: if you use the unix tool `file` you can find that this CSV is encoded with iso-8859-1 character set.  Make sure that all missing values are encoded as NaN.\n",
    "2. There is lots of missingness in this data, and some of these variables are imputed.  We will be imputing some of these variables ourselves, so delete any variable that ends with 'imp'.\n",
    "3. Open up the pdf file: TAST_codebook.pdf which is the data dictionary for this and other related datasets.  Many of the variables in the codebook are not in this dataset because it is describing an updated dataset.\n",
    "4. Create a list where you describe the meaning of the columns of your imported dataframe.  You can group similar columns together when describing their rough meaning, such as ownera,...,ownerp are owners of the slave ships.\n",
    "\n",
    "Throughout we will disregard all time variables other than year since they are unreliable."
   ]
  },
  {
   "cell_type": "code",
   "execution_count": null,
   "metadata": {},
   "outputs": [],
   "source": [
    "import numpy as np\n",
    "import pandas as pd\n",
    "import plotnine as p9"
   ]
  },
  {
   "cell_type": "markdown",
   "metadata": {},
   "source": [
    "### I used code 'Latin-1' to read the csv"
   ]
  },
  {
   "cell_type": "code",
   "execution_count": null,
   "metadata": {},
   "outputs": [],
   "source": [
    "D=pd.read_csv('tastdb-2010.csv',encoding='Latin-1')\n",
    "D.head()"
   ]
  },
  {
   "cell_type": "code",
   "execution_count": null,
   "metadata": {},
   "outputs": [],
   "source": [
    "D.iloc[1,3]"
   ]
  },
  {
   "cell_type": "markdown",
   "metadata": {},
   "source": [
    "### If you don't want the whitespace, the code below helps"
   ]
  },
  {
   "cell_type": "code",
   "execution_count": null,
   "metadata": {},
   "outputs": [],
   "source": [
    "D=pd.read_csv('tastdb-2010.csv',encoding='Latin-1',skipinitialspace=True)\n",
    "D.head()"
   ]
  },
  {
   "cell_type": "code",
   "execution_count": null,
   "metadata": {},
   "outputs": [],
   "source": [
    "print('In total {} columns'.format(len(D.columns)))"
   ]
  },
  {
   "cell_type": "code",
   "execution_count": null,
   "metadata": {},
   "outputs": [],
   "source": [
    "for column in D.columns:\n",
    "    if column.endswith('imp') or len(column)<=1:\n",
    "        D.drop(column,inplace=True,axis=1)"
   ]
  },
  {
   "cell_type": "code",
   "execution_count": null,
   "metadata": {},
   "outputs": [],
   "source": [
    "print('In total {} columns'.format(len(D.columns)))"
   ]
  },
  {
   "cell_type": "markdown",
   "metadata": {},
   "source": [
    "**Exercise 2.** First pass at estimating the total number of captives.\n",
    "\n",
    "1. We will ultimately try to estimate the number of people captured into slavery and forced through the middle passage.  What variable would you use to estimate the total number of captives taken from Africa?  Let me call this variable Var A in this problem statement.   How much of the data for Var A is missing?\n",
    "2. Create an initial estimate of the total number of captives taken from Africa by assuming that Var A is Missing Completely at Random.  \n",
    "3. What other variables do you expect to be associated with Var A and why?  Give at least three possibilities.  Which will probably be the most strongly associated with this variable?  (I will be looking for a specific variable to be listed so be sure to think about the most strongly associated one.)"
   ]
  },
  {
   "cell_type": "markdown",
   "metadata": {},
   "source": [
    "# DIY"
   ]
  },
  {
   "cell_type": "markdown",
   "metadata": {},
   "source": [
    "**Exercise 3.** The flag that the ships flew.\n",
    "\n",
    "1. We want to understand the trends of the nationality of the slave ships (the flag that they flew under is in the national variable).  Subselect the values of `national` that have more than 100 voyages with that value.  \n",
    "2. Create a DataFrame that filters out the voyages where `national` does not have one of these values.  You should be retaining voyages with only these most common values.\n",
    "3. Create a variable, `flag`, that is a string of easily readable names for these values by looking them up in the pdf codebook.\n",
    "4. Using Plotnine, plot the counts of the voyages by flag as a function of voyage year.  Think about how best to display the count of a voyage by year and then how should you be including the flag variable.\n",
    "5. In this plot, what are the geometric elements and aesthetic mappings?  What other components of the grammar of graphics are you using?\n",
    "6. Do you observe any abrupt changes in the patterns of these counts for a given flag?  Investigate the cause for this change (using Google, etc.)."
   ]
  },
  {
   "cell_type": "markdown",
   "metadata": {},
   "source": [
    "### 3.1 - 3.3 DIY\n",
    "\n",
    "### 3.4 Two options which should be easy\n",
    "[plotnine.geoms.geom_col](https://plotnine.readthedocs.io/en/stable/generated/plotnine.geoms.geom_col.html)\n",
    "\n",
    "[plotnine.geoms.geom_area](https://plotnine.readthedocs.io/en/stable/generated/plotnine.geoms.geom_area.html)\n",
    "\n",
    "### 3.5 Answer by yourself. In markdown mode. \n",
    "\n",
    "# DO NOT use Comment\n",
    "\n",
    "### 3.6 DIY"
   ]
  },
  {
   "cell_type": "code",
   "execution_count": null,
   "metadata": {},
   "outputs": [],
   "source": [
    "#I don't like warnings\n",
    "import warnings\n",
    "warnings.filterwarnings(\"ignore\")\n",
    "\n",
    "#example for p9.geoms.geom_area()\n",
    "x=np.arange(20)\n",
    "y1=np.random.random(size=20)\n",
    "y2=np.random.random(size=20)\n",
    "belong=['y1']*20+['y2']*20\n",
    "D_example=pd.DataFrame({'x':np.concatenate([x,x]),'y':np.concatenate([y1,y2]),'fill':belong})"
   ]
  },
  {
   "cell_type": "code",
   "execution_count": null,
   "metadata": {},
   "outputs": [],
   "source": [
    "p9.ggplot(D_example)+ p9.aes(x='x',y='y',fill='fill') + p9.geoms.geom_area()"
   ]
  },
  {
   "cell_type": "markdown",
   "metadata": {},
   "source": [
    "**Exercise 4.** Looking at some of these ships.\n",
    "\n",
    "1. Search for the slave ship mentioned in the following wikipedia article: https://en.wikipedia.org/wiki/Brookes_(ship) Hint: Look at all records of ships with 'Brook' in the name and try to match the characteristics to those described.  How many voyages for this ship are in the data (try to exclude ships with the same name)?\n",
    "2. Create a variable that is True if there was a resistance (like a slave revolt) on the ship.  Plot the density of ships as a function of year with and without revolts and compare these distributions.\n",
    "3. The movie Amistad was based on a real slave ship and slave uprising.  Read about it here: https://en.wikipedia.org/wiki/La_Amistad  Try to find this ship by searching for it by name and also searching for ships in the same 10 year period as this event with a slave resistance.  If you think you found it describe it, otherwise describe the events of another voyage that you did find.  "
   ]
  },
  {
   "cell_type": "markdown",
   "metadata": {},
   "source": [
    "**Exercise 5.** Other patterns.\n",
    "\n",
    "1. The arrival and departure locations are quite detailed.  Look in the appendix of the codebook for the location codes.  Make a coarser version of both arrival and departure port variables (select just the last departure and first arrival) so that for example,  \n",
    "```\n",
    "30000 Caribbean 36100 Martinique 36101 Fort-Royale\n",
    "```\n",
    "is just encoded as '3' or Caribbean.\n",
    "2. Plot the trend of voyages as a function of arrival location.  What trends do you see?\n",
    "3. Do the same for departure location.\n",
    "4. Plot the ratio of captives that are men as a function of year.  Include a smoother to describe the over all trend.  Also include in the plot another possible confounding variable.\n",
    "5. Describe the geoms, aesthetic mappings, and other aspects of the plot."
   ]
  },
  {
   "cell_type": "markdown",
   "metadata": {},
   "source": [
    "### 5.1 Just extract the first digit and figure out the area is enough\n",
    "### the rest DIY"
   ]
  },
  {
   "cell_type": "markdown",
   "metadata": {},
   "source": [
    "**Exercise 6.** Estimating total captives count I.\n",
    "\n",
    "1. Plot the number of slaves at departure from last slaving and the number that arrived at the first port of disembarkation.  \n",
    "2. Why do these variables concentrate near a line?  Most of the data lies on one side of the line, but a small fraction do not, what could have happened for those that did not?  Separate the data into these two populations.\n",
    "3. For those voyages where the number of captives decreased (through death), calculate a death rate (ratio of captives that died).  \n",
    "4. Plot this death rate as a function of year.  Make any appropriate scale transformations, and include a trend line or other smoother.  What is your interpretation?\n",
    "5. Guess at two possible predictors and create visualizations that give you a sense of their association with the death rate.  Make sure that one of these is categorical, and plot it with the death rate and year so that there are three variables used in the same plot.\n",
    "6. For these plots, list the geoms, aesthetic mappings, scales, and other notable aspects used."
   ]
  },
  {
   "cell_type": "markdown",
   "metadata": {},
   "source": [
    "### 6.1"
   ]
  },
  {
   "cell_type": "markdown",
   "metadata": {},
   "source": [
    "I plotted the line y=x for you. But the line you should use to seperate data is not this line."
   ]
  },
  {
   "cell_type": "code",
   "execution_count": null,
   "metadata": {},
   "outputs": [],
   "source": [
    "p9.ggplot(D) + p9.aes(x='tslavesd',y='slaarriv') + p9.geom_point() \\\n",
    "+ p9.geoms.geom_abline(mapping=p9.aes(slope=1,intercept=0))"
   ]
  },
  {
   "cell_type": "markdown",
   "metadata": {},
   "source": [
    "### 6.2  It would be better if you can plot the points again with colors to distinguish populations\n",
    "### 6.3  DIY\n",
    "### 6.4  Notice that it's death rate for different years instead of different ships\n",
    "### 6.5  There should be two plots\n",
    "### 6.6  DIY"
   ]
  },
  {
   "cell_type": "markdown",
   "metadata": {},
   "source": [
    "**Exercise 7.** Estimating total captives count II.\n",
    "\n",
    "1. Using the variables selected, fit a prediction of death rate using linear regression and some simple transformations/scales.  You do not need to spend time doing automated model selection, just include the most likely predictor or predictors from the previous question.\n",
    "2. We will impute the number of captives on board at departure, so enumerate the cases for missingness of the variables involved in the prediction.\n",
    "3. We would like to predict the number of captives on departure from the number that arrived with the following formula,\n",
    "$$\n",
    "\\textrm{arrived} = \\pi (1 - \\textrm{death rate}) \\cdot (\\textrm{captives taken}) + (1- \\pi) (\\textrm{average increase})\n",
    "$$\n",
    "where $\\pi$ is the proportion of voyages with no increase in captives, and the average increase is over those that did see an increase. \n",
    "For those voyages with captives taken missing and arrived not missing, use the estimated death rate to predict the captives taken.\n",
    "4. Impute the remainder by predicting the captives taken with the year variable, you can use simple linear regression.\n",
    "5. With the same formula and method impute the number of captives upon arrival whenever it is missing.\n",
    "6. Give a new estimate of the predicted total number of captives taken on the middle passage, the total number of deaths, and the overall death rate.  How does this differ from your first estimate obtained by assuming MCAR?"
   ]
  }
 ],
 "metadata": {
  "kernelspec": {
   "display_name": "Python 3",
   "language": "python",
   "name": "python3"
  },
  "language_info": {
   "codemirror_mode": {
    "name": "ipython",
    "version": 3
   },
   "file_extension": ".py",
   "mimetype": "text/x-python",
   "name": "python",
   "nbconvert_exporter": "python",
   "pygments_lexer": "ipython3",
   "version": "3.6.6"
  }
 },
 "nbformat": 4,
 "nbformat_minor": 2
}
